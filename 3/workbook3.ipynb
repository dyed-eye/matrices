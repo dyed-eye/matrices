{
 "cells": [
  {
   "cell_type": "markdown",
   "metadata": {},
   "source": [
    "# Разложение Шура\n",
    "\n",
    "Любую квадратную матрицу $A$ можно преобразованием $U$ подобия привести к верхнетреугольной матрице $R$,\n",
    "причем преобразование $U$ можно выбрать унитарным (ортогональным для вещественных матриц):\n",
    "$$A=URU^*,\\quad U^*AU=R,\\quad UU^*=U^*U=1,$$\n",
    "такое представление матрицы называется [разложением Шура](https://en.wikipedia.org/wiki/Schur_decomposition).\n",
    "Здесь и далее мы будем обозначать единичную матрицу подходящего размера через $1$,\n",
    "а сопряженную матрицу к $A$ через $A^*$.\n",
    "Элементы сопряженной матрицы получаются транспонирование матрицы с последующим комплексным сопряжением:\n",
    "$$\n",
    "A^*=\\bar A^T,\\quad (A^*)_{nk}=\\overline{A_{kn}}. \n",
    "$$ \n",
    "Столбцы матрицы преобразования $U$ называются векторами Шура."
   ]
  },
  {
   "cell_type": "markdown",
   "metadata": {
    "jp-MarkdownHeadingCollapsed": true
   },
   "source": [
    "## Задания."
   ]
  },
  {
   "cell_type": "markdown",
   "metadata": {},
   "source": [
    "#### 1. Какой смысл имеют диагональные элементы матрицы $R$?"
   ]
  },
  {
   "cell_type": "markdown",
   "metadata": {},
   "source": [
    "Диагональные элементы матрицы $R$ представляют собой собственные числа матрицы $A$"
   ]
  },
  {
   "cell_type": "markdown",
   "metadata": {},
   "source": [
    "#### 2. В каком случае вектора Шура оказываются собственными векторами?"
   ]
  },
  {
   "cell_type": "markdown",
   "metadata": {},
   "source": [
    "Когда $A$ нормальная (коммутирует со своей эрмитово-сопряженной $AA^*=A^*A$)"
   ]
  },
  {
   "cell_type": "markdown",
   "metadata": {},
   "source": [
    "#### 3. Покажите, что сумма квадратов абсолютных значений всех недиагональных элементов матрицы $R$ не зависит от выбора $U$ и определяется только матрицей $A$:\n",
    "$$ N = \\sum_{n}\\sum_{k>n} |R_{nk}|^2.$$\n",
    "#### Какой смысл вы можете придать этой сумме?"
   ]
  },
  {
   "cell_type": "markdown",
   "metadata": {},
   "source": [
    "$$R=U^*AU \\Rightarrow \\sum|r_{ij}|^2=\\sum|\\overline{u_{ki}}A_{kl}u_{lj}|^2=\\sum(\\overline{u_{ki}}A_{kl}u_{lj})(u_{ni}\\overline{A_{nm}}\\overline{u_{mj}})=\\sum\\overline{u_{ki}}u_{ni}A_{kl}\\overline{A_{nm}}u_{lj}\\overline{u_{mj}}=\\sum\\delta_{kn}A_{kl}\\overline{A_{nm}}\\delta_{lm}$$\n",
    "\n",
    "$$\\sum_{k,l,m,n=1}^N\\delta_{kn}A_{kl}\\overline{A_{nm}}\\delta_{lm}=\\sum_{n,m=1}^N|A_{nm}|^2$$\n",
    "\n",
    "Принимая во внимание, что это — сумма по всем элементам матриц, а диагональные элементы матрицы $R$ представляют из себя собственные числа матрицы $A$ и не могут зависеть от $U$, становится понятно, что и сумма недиагональных элементов определяется взаимоотношением полученного равенства и собственных чисел матрицы $A$, то есть определяется только матрицей $A$"
   ]
  },
  {
   "cell_type": "markdown",
   "metadata": {},
   "source": [
    "---\n",
    "\n",
    "Первый вектор Шура всегда является собственным, поэтому мы можем построить наивную процедуру\n",
    "вычисления разложения Шура, имея способ вычисления собственных чисел и векторов.\n",
    "Проще всего оказывается вычислить самое большое по модулю собственное значение матрицы (спектральный радиус),\n",
    "для этого можно воспользоваться [методом степеней](https://en.wikipedia.org/wiki/Power_iteration).\n",
    "Суть метода заключается в вычислении последовательности:\n",
    "$$e_{n+1}=\\frac{Ae_n}{\\|Ae_n\\|},$$\n",
    "которая при определенных условиях сходится к собственному вектору, отвечающему максимальному по модулю собственому значению $A$. "
   ]
  },
  {
   "cell_type": "markdown",
   "metadata": {},
   "source": [
    "## Задания."
   ]
  },
  {
   "cell_type": "markdown",
   "metadata": {
    "jp-MarkdownHeadingCollapsed": true
   },
   "source": [
    "#### 4. Предложите достаточные условия сходимости степенного метода."
   ]
  },
  {
   "cell_type": "markdown",
   "metadata": {},
   "source": [
    "Достаточно, чтобы $\\lambda_1$ — первое собственное число в спектре — было доминантным, а также чтобы $e_n$ имел ненулевую проекцию на доминантный собственный вектор, соответствующий $\\lambda_1$."
   ]
  },
  {
   "cell_type": "markdown",
   "metadata": {
    "jp-MarkdownHeadingCollapsed": true
   },
   "source": [
    "#### 5. Реализуйте степенной метод. Для проверки результата воспользуйтесь функцией [scipy.linalg.norm(A, ord=2)](https://docs.scipy.org/doc/scipy/reference/generated/scipy.linalg.norm.html), которая на квадратной матрице $A$ возвращает ее спектральных радиус."
   ]
  },
  {
   "cell_type": "code",
   "execution_count": 3,
   "metadata": {},
   "outputs": [],
   "source": [
    "import numpy as np\n",
    "import scipy as sp"
   ]
  },
  {
   "cell_type": "code",
   "execution_count": 4,
   "metadata": {},
   "outputs": [],
   "source": [
    "import matplotlib.pyplot as plt\n",
    "from cycler import cycler\n",
    "n = 6\n",
    "colors = plt.cm.jet(np.linspace(0,1,n))\n",
    "default_cycler = (cycler(color=colors))\n",
    "\n",
    "plt.rc('lines', linewidth=1, linestyle='--', marker='.')\n",
    "plt.rc('axes', prop_cycle=default_cycler)"
   ]
  },
  {
   "cell_type": "code",
   "execution_count": 5,
   "metadata": {},
   "outputs": [
    {
     "name": "stdout",
     "output_type": "stream",
     "text": [
      "[[7.88860905e-31]\n",
      " [1.00000000e+00]]\n"
     ]
    },
    {
     "data": {
      "image/png": "[encoded data removed]",
      "text/plain": [
       "<Figure size 640x480 with 1 Axes>"
      ]
     },
     "metadata": {},
     "output_type": "display_data"
    }
   ],
   "source": [
    "def power_iter(A, x0):\n",
    "    r = sp.linalg.norm(A, ord=2)\n",
    "    q = x0\n",
    "    iters = 100\n",
    "    errors = np.zeros(iters)\n",
    "    for i in range(iters):\n",
    "        z = A@q\n",
    "        q = z/np.linalg.norm(z)\n",
    "        l = np.dot(q.conj().T, np.dot(A, q))\n",
    "        errors[i] = abs(l[0][0]/r-1)\n",
    "    return q, l, errors\n",
    "    \n",
    "A = np.array([[1,0],[0,2]])\n",
    "x0 = np.array([[1],[1]])\n",
    "\n",
    "e1, l1, err = power_iter(A, x0)\n",
    "\n",
    "print(e1)\n",
    "plt.plot(err)\n",
    "\n",
    "plt.gca().set_yscale('log')\n",
    "plt.ylabel('Error')\n",
    "plt.xlabel('Iteration')\n",
    "plt.show()"
   ]
  },
  {
   "cell_type": "code",
   "execution_count": 6,
   "metadata": {},
   "outputs": [
    {
     "name": "stdout",
     "output_type": "stream",
     "text": [
      "[0.5+0.8660254j 0.5-0.8660254j 2. +0.j       ]\n",
      "[[0.57735027]\n",
      " [0.57735027]\n",
      " [0.57735027]]\n"
     ]
    },
    {
     "data": {
      "image/png": "[encoded data removed]",
      "text/plain": [
       "<Figure size 640x480 with 1 Axes>"
      ]
     },
     "metadata": {},
     "output_type": "display_data"
    }
   ],
   "source": [
    "A = np.array([[1, 1, 0], [0, 1, 1], [1, 0, 1]])\n",
    "print(np.linalg.eigvals(A))\n",
    "x0 = np.array([[1],[1],[1]])\n",
    "\n",
    "e1, l1, err = power_iter(A, x0)\n",
    "\n",
    "print(e1)\n",
    "plt.plot(err)\n",
    "\n",
    "plt.gca().set_yscale('log')\n",
    "plt.ylabel('Error')\n",
    "plt.xlabel('Iteration')\n",
    "plt.show()"
   ]
  },
  {
   "cell_type": "markdown",
   "metadata": {
    "jp-MarkdownHeadingCollapsed": true
   },
   "source": [
    "#### 6. Первый вектор Шура находится степенным методом, как можно найти второй вектор Шура? \n",
    "__Указание:__ Рассмотрите подматрицу $A_{2\\colon,2\\colon}$."
   ]
  },
  {
   "cell_type": "markdown",
   "metadata": {},
   "source": [
    "Нахождение первого вектора Шура представляет из себя матрицу $U_1$, такую что в разложении Шура $U=\\Pi_{i=1}^nU_i$.\n",
    "\n",
    "Можно выделить $A=U_1R_1U_1^{*}$, где $R_1=\\left[ \\begin{array}{cc} \\lambda _{ 1 } & w \\\\ 0 & A _{ 2 } \\end{array} \\right]$.\n",
    "\n",
    "Таким образом, нахождение $U_i \\ (i=2\\dots n)$ сводится к применению степенного метода к $A_i \\ (i=2\\dots n)$: матрица $U$ получится вехнетреугольной и унитарной."
   ]
  },
  {
   "cell_type": "markdown",
   "metadata": {
    "jp-MarkdownHeadingCollapsed": true
   },
   "source": [
    "#### 7. Реализуйте функцию для построения разложения Шура с помощью степенного метода. В каких случаях алгоритм сойдется? В каких случаях сойдется к разложению Шура? С какой скоростью итерации сходятся в случае сходимости?"
   ]
  },
  {
   "cell_type": "code",
   "execution_count": 43,
   "metadata": {},
   "outputs": [],
   "source": [
    "def gram_schmidt(As):\n",
    "    A = As.copy()\n",
    "    for i in range(A.shape[0]):\n",
    "        for j in range(i):\n",
    "            A[:,i] = A[:,i] - np.dot(A[:,j], A[:,i]) * A[:,j]\n",
    "        A[:,i] = A[:,i] / np.linalg.norm(A[:, i])\n",
    "    return A\n",
    "        \n",
    "def schur_power(As):\n",
    "    A = As.copy()\n",
    "    n = A.shape[0]\n",
    "    U = np.eye(n)\n",
    "    x0 = np.array([[1]]*n)\n",
    "    for i in range(n):\n",
    "        Ui = np.eye(n)\n",
    "        e, _, _ = power_iter(A[i:,i:], x0[i:,:])\n",
    "        Ui[i:,i] = e.conj().T\n",
    "        Ui = gram_schmidt(Ui)\n",
    "        A = Ui.conj().T @ A @ Ui\n",
    "        U = U @ Ui\n",
    "    return U, U.T @ As @U"
   ]
  },
  {
   "cell_type": "code",
   "execution_count": 44,
   "metadata": {},
   "outputs": [
    {
     "name": "stdout",
     "output_type": "stream",
     "text": [
      "[[1.00000000e+00 1.00000000e+00 5.75232852e-16]\n",
      " [7.94071479e-16 1.00000000e+00 1.00000000e+00]\n",
      " [1.00000000e+00 2.76797718e-16 1.00000000e+00]]\n",
      "\n",
      "U=array([[ 0.57735027,  0.21132487, -0.78867513],\n",
      "       [ 0.57735027, -0.78867513,  0.21132487],\n",
      "       [ 0.57735027,  0.57735027,  0.57735027]])\n",
      "R=array([[ 2.00000000e+00,  1.22305252e-16, -8.51749217e-16],\n",
      "       [ 1.31018250e-16,  5.00000000e-01, -8.66025404e-01],\n",
      "       [-8.81372161e-16,  8.66025404e-01,  5.00000000e-01]])\n",
      "\n",
      "U=array([[ 0.81567014, -0.03672727, -0.57735027],\n",
      "       [-0.37602832,  0.7247547 , -0.57735027],\n",
      "       [-0.43964182, -0.68802743, -0.57735027]])\n",
      "R=array([[ 5.00000000e-01,  8.66025404e-01, -1.88296216e-16],\n",
      "       [-8.66025404e-01,  5.00000000e-01,  5.75201750e-16],\n",
      "       [ 0.00000000e+00,  0.00000000e+00,  2.00000000e+00]])\n"
     ]
    }
   ],
   "source": [
    "A = np.array([[1, 1, 0], [0, 1, 1], [1, 0, 1]])\n",
    "U, R = schur_power(A)\n",
    "print(U@R@U.conj().T)\n",
    "print(f'\\n{U=}')\n",
    "print(f'{R=}\\n')\n",
    "R, U = sp.linalg.schur(A)\n",
    "print(f'{U=}')\n",
    "print(f'{R=}')"
   ]
  },
  {
   "cell_type": "code",
   "execution_count": 45,
   "metadata": {},
   "outputs": [
    {
     "name": "stdout",
     "output_type": "stream",
     "text": [
      "[[2. 0.]\n",
      " [0. 1.]]\n",
      "\n",
      "U=array([[ 1.00000000e+00, -7.88860905e-31],\n",
      "       [ 7.88860905e-31,  1.00000000e+00]])\n",
      "R=array([[ 2.00000000e+00, -7.88860905e-31],\n",
      "       [-7.88860905e-31,  1.00000000e+00]])\n",
      "\n",
      "U=array([[1., 0.],\n",
      "       [0., 1.]])\n",
      "R=array([[2., 0.],\n",
      "       [0., 1.]])\n"
     ]
    }
   ],
   "source": [
    "A = np.array([[2, 0], [0, 1]])\n",
    "U, R = schur_power(A)\n",
    "print(U@R@U.conj().T)\n",
    "print(f'\\n{U=}')\n",
    "print(f'{R=}\\n')\n",
    "R, U = sp.linalg.schur(A)\n",
    "print(f'{U=}')\n",
    "print(f'{R=}')"
   ]
  },
  {
   "cell_type": "code",
   "execution_count": 46,
   "metadata": {},
   "outputs": [
    {
     "name": "stderr",
     "output_type": "stream",
     "text": [
      "C:\\Temp\\ipykernel_8820\\4102204287.py:17: ComplexWarning: Casting complex values to real discards the imaginary part\n",
      "  Ui[i:,i] = e.conj().T\n"
     ]
    },
    {
     "name": "stdout",
     "output_type": "stream",
     "text": [
      "[[ 2.00000000e+00-2.3830451e-18j -4.76609021e-18+1.0000000e+00j]\n",
      " [-2.38304510e-18-1.0000000e+00j  1.00000000e+00+2.3830451e-18j]]\n",
      "\n",
      "U=array([[ 0.93417236, -0.35682209],\n",
      "       [ 0.35682209,  0.93417236]])\n",
      "R=array([[ 1.872678  +2.3830451e-18j, -0.33333333+1.0000000e+00j],\n",
      "       [-0.33333333-1.0000000e+00j,  1.127322  -2.3830451e-18j]])\n",
      "\n",
      "U=array([[ 0.85065081+0.j        , -0.52573111+0.j        ],\n",
      "       [ 0.        -0.52573111j,  0.        -0.85065081j]])\n",
      "R=array([[2.61803399e+00+0.j, 2.22044605e-16+0.j],\n",
      "       [0.00000000e+00+0.j, 3.81966011e-01+0.j]])\n"
     ]
    }
   ],
   "source": [
    "A = np.array([[2, 1j], [-1j, 1]])\n",
    "U, R = schur_power(A)\n",
    "print(U@R@U.conj().T)\n",
    "print(f'\\n{U=}')\n",
    "print(f'{R=}\\n')\n",
    "R, U = sp.linalg.schur(A)\n",
    "print(f'{U=}')\n",
    "print(f'{R=}')"
   ]
  },
  {
   "cell_type": "markdown",
   "metadata": {},
   "source": [
    "Видим, что наш метод работает только с вещественнозначными матрицами"
   ]
  },
  {
   "cell_type": "markdown",
   "metadata": {},
   "source": [
    "При этом метод сходится тогда и только тогда, когда сходится степенной метод, то есть когда собственные значения матрицы различны"
   ]
  },
  {
   "cell_type": "code",
   "execution_count": 52,
   "metadata": {},
   "outputs": [],
   "source": [
    "def schur_power_err(As):\n",
    "    A = As.copy()\n",
    "    n = A.shape[0]\n",
    "    U = np.eye(n)\n",
    "    x0 = np.array([[1]]*n)\n",
    "    for i in range(n):\n",
    "        Ui = np.eye(n)\n",
    "        e, _, err = power_iter(A[i:,i:], x0[i:,:])\n",
    "        plt.semilogy(err)\n",
    "        plt.show()\n",
    "        Ui[i:,i] = e.conj().T\n",
    "        Ui = gram_schmidt(Ui)\n",
    "        A = Ui.conj().T @ A @ Ui\n",
    "        U = U @ Ui\n",
    "    return U, U.T @ As @U"
   ]
  },
  {
   "cell_type": "code",
   "execution_count": 53,
   "metadata": {},
   "outputs": [
    {
     "data": {
      "image/png": "[encoded data removed]",
      "text/plain": [
       "<Figure size 640x480 with 1 Axes>"
      ]
     },
     "metadata": {},
     "output_type": "display_data"
    },
    {
     "data": {
      "image/png": "[encoded data removed]",
      "text/plain": [
       "<Figure size 640x480 with 1 Axes>"
      ]
     },
     "metadata": {},
     "output_type": "display_data"
    }
   ],
   "source": [
    "A = np.array([[2, 0], [0, 3]])\n",
    "U, R = schur_power_err(A)"
   ]
  },
  {
   "cell_type": "markdown",
   "metadata": {},
   "source": [
    "Для нахождения собственных чисел степенным методом в данном случае достаточно 25 итераций"
   ]
  },
  {
   "cell_type": "markdown",
   "metadata": {},
   "source": [
    "(на втором графике ничего не видим, потому что ошибка равна 0 - второе собственное число найдено как единственный элемент матрицы $1\\times 1$)"
   ]
  },
  {
   "cell_type": "markdown",
   "metadata": {
    "jp-MarkdownHeadingCollapsed": true
   },
   "source": [
    "#### 8. Обобщите степенной метод так, чтобы одновременно вычислялось несколько собственных векторов. \n",
    "Реализуйте эту модификацию. Какие условия являются достаточными для сходимости вашего метода."
   ]
  },
  {
   "cell_type": "markdown",
   "metadata": {},
   "source": [
    "Степенной метод также можно применять к двум ортонормированным векторам сразу. Однако, зная $QR$ разложение, можно реализовать степенной метод для всех собственных векторов сразу. Для этого достаточно обеспечить сходимость степенного метода - различные собственные значения."
   ]
  },
  {
   "cell_type": "code",
   "execution_count": 54,
   "metadata": {},
   "outputs": [],
   "source": [
    "def power_simultaneous(A):\n",
    "    iters = 100\n",
    "    Q, R = np.linalg.qr(np.random.rand(*A.shape))\n",
    "    for i in range(iters):\n",
    "        B = A @ Q\n",
    "        Q, R = np.linalg.qr(B)\n",
    "    return Q, R"
   ]
  },
  {
   "cell_type": "code",
   "execution_count": 55,
   "metadata": {},
   "outputs": [
    {
     "name": "stdout",
     "output_type": "stream",
     "text": [
      "R=array([[2.00000000e+00, 1.88790657e-30],\n",
      "       [0.00000000e+00, 1.00000000e+00]])\n",
      "\n",
      "R=array([[2., 0.],\n",
      "       [0., 1.]])\n"
     ]
    }
   ],
   "source": [
    "A = np.array([[2, 0], [0, 1]])\n",
    "_, R = power_simultaneous(A)\n",
    "print(f'{R=}\\n')\n",
    "R, U = sp.linalg.schur(A)\n",
    "print(f'{R=}')"
   ]
  },
  {
   "cell_type": "markdown",
   "metadata": {},
   "source": [
    "## Задания."
   ]
  },
  {
   "cell_type": "markdown",
   "metadata": {},
   "source": [
    "#### 9. Предложите матрицу, у которой левый и правый собственные вектра для одного собственного значения почти ортогональны. Добавляя малое возмущение к матрице (можно воспользоваться [numpy.random.randn](https://numpy.org/doc/stable/reference/random/generated/numpy.random.randn.html)) и находя собственные значения для возмущенной матрицы через `scipy.linalg.schur` оцените число обусловленности для вычисления собственного числа. Сравните с теорией."
   ]
  },
  {
   "cell_type": "markdown",
   "metadata": {},
   "source": [
    "В качестве такой матрицы можно выбрать\n",
    "$$A=\\begin{pmatrix}1& 1/\\epsilon \\\\ \\epsilon&1\\end{pmatrix}$$"
   ]
  },
  {
   "cell_type": "code",
   "execution_count": 82,
   "metadata": {},
   "outputs": [
    {
     "name": "stdout",
     "output_type": "stream",
     "text": [
      "[[ 1.e+00 -1.e+00]\n",
      " [ 1.e-05  1.e-05]]\n",
      "[[ 1.e-05 -1.e-05]\n",
      " [ 1.e+00  1.e+00]]\n"
     ]
    }
   ],
   "source": [
    "epsilon = 0.00001\n",
    "A = np.array([[1,1/epsilon],[epsilon,1]])\n",
    "print(np.linalg.eig(A)[1])\n",
    "print(np.linalg.eig(A.T)[1])"
   ]
  },
  {
   "cell_type": "code",
   "execution_count": 84,
   "metadata": {},
   "outputs": [
    {
     "name": "stdout",
     "output_type": "stream",
     "text": [
      "[[1.01650311e+00 1.00000017e+05]\n",
      " [1.65131063e-02 1.01650311e+00]]\n",
      "Eigenvalue for A: 2.0\n",
      "Eigenvalue for A with noise: 2.0\n",
      "\n",
      " Condition number:  0.0\n"
     ]
    }
   ],
   "source": [
    "B = A + np.linalg.norm(0.01*np.random.randn(2,2))\n",
    "print(B)\n",
    "R = sp.linalg.schur(A)[0]\n",
    "print(f'Eigenvalue for A: {np.linalg.eig(A)[0][0]}')\n",
    "print(f'Eigenvalue for A with noise: {np.diag(R)[0]}')\n",
    "print(f'\\n Condition number: ', abs(np.linalg.eig(A)[0][0] - np.diag(R)[0]) / np.diag(R)[0] / np.linalg.norm(B))"
   ]
  },
  {
   "cell_type": "markdown",
   "metadata": {},
   "source": [
    "Шум не повлиял на собственные значения матрицы"
   ]
  },
  {
   "cell_type": "markdown",
   "metadata": {},
   "source": [
    "#### 10. Рассмотрите малое возмущение $\\epsilon$ для матрицы $$A=\\begin{pmatrix}1&a\\\\\\epsilon&1\\end{pmatrix},$$ где $a$ - параметр. Насколько сильно возущение изменяет собственные значения? Собственные вектора (`scipy.linalg.eig`)?"
   ]
  },
  {
   "cell_type": "code",
   "execution_count": 90,
   "metadata": {},
   "outputs": [
    {
     "data": {
      "image/png": "[encoded data removed]",
      "text/plain": [
       "<Figure size 640x480 with 1 Axes>"
      ]
     },
     "metadata": {},
     "output_type": "display_data"
    }
   ],
   "source": [
    "epsilon = 1e-6*np.random.rand()\n",
    "a = np.logspace(-6, 6, 100)\n",
    "dlambda = np.empty_like(a)\n",
    "for i in range(len(a)):\n",
    "    A = np.array([[1,a[i]],[epsilon, 1]])\n",
    "    B = np.array([[1,a[i]],[0, 1]])\n",
    "    dlambda[i] = abs(np.max(np.linalg.eig(A)[0])-np.max(np.linalg.eig(B)[0]))\n",
    "\n",
    "plt.loglog(a, dlambda)\n",
    "plt.xlabel('a')\n",
    "plt.show()"
   ]
  },
  {
   "cell_type": "code",
   "execution_count": 93,
   "metadata": {},
   "outputs": [
    {
     "data": {
      "image/png": "[encoded data removed]",
      "text/plain": [
       "<Figure size 640x480 with 1 Axes>"
      ]
     },
     "metadata": {},
     "output_type": "display_data"
    }
   ],
   "source": [
    "epsilon = 1e-3*np.random.rand()\n",
    "a = np.logspace(-6, 6, 100)\n",
    "dlambda = np.empty_like(a)\n",
    "for i in range(len(a)):\n",
    "    A = np.array([[1,a[i]],[epsilon, 1]])\n",
    "    B = np.array([[1,a[i]],[0, 1]])\n",
    "    dlambda[i] = abs(np.max(np.linalg.eig(A)[0])-np.max(np.linalg.eig(B)[0]))\n",
    "\n",
    "plt.loglog(a, dlambda)\n",
    "plt.xlabel('a')\n",
    "plt.show()"
   ]
  },
  {
   "cell_type": "markdown",
   "metadata": {},
   "source": [
    "Видим, что в такой матрице изменение собственных значений, связанное с возмущением, монотонно растет с увеличением параметра $a$. При этом увеличение шума не меняет вида зависимости."
   ]
  },
  {
   "cell_type": "markdown",
   "metadata": {},
   "source": [
    "---"
   ]
  },
  {
   "cell_type": "markdown",
   "metadata": {},
   "source": [
    "На практике для вычисления разложения Шура как правило используется [QR алгоритм](https://en.wikipedia.org/wiki/QR_algorithm) и его варианты. \n",
    "Мы ограничимся изучением этого метода только для симметричных матриц.\n",
    "\n",
    "Пусть матрица $A$ имеет только вещественные коэффициенты и симметрична, т.е. $A^T=A$.\n",
    "В этом случае матрица $R$ в разложение Шура для матрица $A$ оказывается диагональным, т.е. выполняется спектральное разложение.\n",
    "\n",
    "Перед выполнение QR алгоритма матрица $A$ приводится преобразованием подобия к более простому виду $A_0=VAV^T$,\n",
    "как правило к виду [матрицы Хессенберга](https://en.wikipedia.org/wiki/Hessenberg_matrix).\n",
    "Преобразование $V$ можно представить, например, в виде цепочки [вращений Гивенса](https://en.wikipedia.org/wiki/Givens_rotation).\n",
    "На одном шаге QR алгоритма строится QR разложение матрицы $A_n=Q_nR_n$,\n",
    "затем матрицы из разложения перемножаются в обратном порядке, формируя новый член последовательности:\n",
    "$A_{n+1}=R_nQ_n$.\n",
    "Все матрицы в последовательности подобны: $A_{n+1}=Q_n^TA_nQ_n$.\n",
    "Итерации повторяются до тех пор, пока матрица $A_n$ не станет достаточно треугольной.\n",
    "\n",
    "В наивном варианте QR алгоритм не всегда сходится, однако ситуацию можно исправить, добавив в сдвиги.\n",
    "На каждом шаге алгоритма будем строить QR разложение для $A_n-\\zeta_n=Q_nR_n$ с подходящим $\\zeta_n$.\n",
    "Следующий член последовательности определим так $A_{n+1}=R_nQ_n+\\zeta_n$.\n",
    "Последовательность $\\zeta_n$ выбирается так, чтобы $\\zeta_n$ сходилось к минимальному собственному числу,\n",
    "например, полагая $\\zeta_n$ равным элементу $R$ из последнего столбца и строки.\n",
    "В этому случае итерации почти всегда сходятся и дают кубическую скорость сходимости."
   ]
  },
  {
   "cell_type": "markdown",
   "metadata": {},
   "source": [
    "## Задания."
   ]
  },
  {
   "cell_type": "markdown",
   "metadata": {},
   "source": [
    "#### 11. Реализуйте QR алгоритм со сдвигами для симметричной матрицы $A$. \n",
    "Экспериментально проверьте скорость сходимости. \n",
    "Сравните со скорость сходимости степенного метода."
   ]
  },
  {
   "cell_type": "markdown",
   "metadata": {},
   "source": [
    "#### 12. **(повышенная сложность)** Реализуйте неявный QR алгоритм. Сравните его работу с работой явного метода."
   ]
  },
  {
   "cell_type": "markdown",
   "metadata": {},
   "source": [
    "#### 13. Предложите и реализуйте метод вычисления [сингулярного (SVD) разложения](https://en.wikipedia.org/wiki/Singular_value_decomposition), используя разложение Шура. Постарайтесь избежать вычисления матриц $AA^T$ и $A^TA$."
   ]
  }
 ],
 "metadata": {
  "kernelspec": {
   "display_name": "Python 3 (ipykernel)",
   "language": "python",
   "name": "python3"
  },
  "language_info": {
   "codemirror_mode": {
    "name": "ipython",
    "version": 3
   },
   "file_extension": ".py",
   "mimetype": "text/x-python",
   "name": "python",
   "nbconvert_exporter": "python",
   "pygments_lexer": "ipython3",
   "version": "3.11.1"
  }
 },
 "nbformat": 4,
 "nbformat_minor": 4
}
